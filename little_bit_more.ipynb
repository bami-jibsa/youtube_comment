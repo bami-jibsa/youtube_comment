{
 "cells": [
  {
   "cell_type": "code",
   "execution_count": 1,
   "id": "e8b12a15-043f-4f0c-8f1d-a34d64fad767",
   "metadata": {},
   "outputs": [],
   "source": [
    "from selenium import webdriver\n",
    "from selenium.webdriver.chrome.service import Service as ChromeService\n",
    "from selenium.webdriver.common.by import By\n",
    "from selenium.webdriver.common.keys import Keys\n",
    "import time\n"
   ]
  },
  {
   "cell_type": "code",
   "execution_count": 2,
   "id": "cbf2565a-bd82-4ec8-aec0-d6b92fc17d7c",
   "metadata": {},
   "outputs": [],
   "source": [
    "options = webdriver.ChromeOptions()\n",
    "options.add_argument(\"headless\")"
   ]
  },
  {
   "cell_type": "code",
   "execution_count": 3,
   "id": "e1c7109d-7a29-4569-935c-2989d17e8147",
   "metadata": {},
   "outputs": [],
   "source": [
    "driver = webdriver.Chrome(executable_path=\"./chromedriver\", options=options)\n"
   ]
  },
  {
   "cell_type": "code",
   "execution_count": 4,
   "id": "2d7a5cc6-7ada-41e4-865a-cf6c1a4db568",
   "metadata": {},
   "outputs": [],
   "source": [
    "url = 'https://www.youtube.com/watch?v=u86k7N8EEc8'"
   ]
  },
  {
   "cell_type": "code",
   "execution_count": 8,
   "id": "abc56879-6ef7-4d5e-9bf7-494cfca06bb4",
   "metadata": {},
   "outputs": [],
   "source": [
    "def grab(url):\n",
    "    driver.get(url)\n",
    "    time.sleep(5) \n",
    "\n",
    "    for _ in range(10):\n",
    "        driver.find_element(By.TAG_NAME, 'body').send_keys(Keys.PAGE_DOWN)\n",
    "        time.sleep(1) \n",
    "\n",
    "    comments = driver.find_elements(By.CSS_SELECTOR, \"#content-text\")\n",
    "    authors = driver.find_elements(By.CSS_SELECTOR, \"#author-text\")\n",
    "    \n",
    "    comment_texts = [comment.text for comment in comments]\n",
    "    author_names = [author.text.strip() for author in authors]\n",
    "\n",
    "    driver.quit()\n",
    "\n",
    "    return author_names, comment_texts"
   ]
  },
  {
   "cell_type": "code",
   "execution_count": 9,
   "id": "17635dc4-b035-4491-a678-5ffd9800c889",
   "metadata": {},
   "outputs": [],
   "source": [
    "a = grab(url)"
   ]
  },
  {
   "cell_type": "code",
   "execution_count": 10,
   "id": "b130d67b-8c20-4cdd-97ca-9c94a01d97ee",
   "metadata": {},
   "outputs": [
    {
     "name": "stdout",
     "output_type": "stream",
     "text": [
      "(['', '@rainbow.musicoflife', '@anuven4', '@user-fo1jt9go8l', '@kseniasavva7', '@claire4238', '@claire4238', '', '@user-fo1jt9go8l', '@grandes_exitos_', '@jair_javier', '@claire4238', '@claire4238', '@claire4238', '@Rubri.C', '@rnbsoulrhyhtm', '@axelsonder._', '@kevenwill', '@yoonseul5755', '@claire4238', '@topmusichot_1st', '@user-kp2hl9du5g', '@0magnific0', '@josuemaradiaga22', '@jychoi806', '@sitrusstudy', '@bhamzontv3016', '@gerenciacoltradiss.a.s8559', '@UNCplaylist', '@FredKhastt', '@feblyntan4720', '@claire4238', '@elenapuc3206', '@luiscerda4031', '@katyaletto', '@dodoli', '@eth2022x', '@applearcan3002', '@ericaridenour6846', '@geimer69'], ['애증의 위켄드 플리...ㅠ\\n[𝐏𝐥𝐚𝐲𝐥𝐢𝐬𝐭]\\n0:00 Can’t Feel My Face\\n03:31  Feel It Coming\\n A Lonely Night\\n Take My Breath\\n Don’t Break My Heart\\n One Right Now\\n Less Than Zero\\n Out of Time\\n I Heard You’re Married (Feat. Lil Wayne)\\n Save Your Tears (Remix)\\n In Your Eyes\\n Earned It (from Fifty Shades Of Grey)\\n Die For You\\n Call Out My Name\\n Blinding Lights\\n Sacrifice\\n Hardest To Love\\n Moth To A Flame\\n Starboy\\n After Hours\\n I Was Never There (Feat. Gesaffelstein)', '이 글을 읽는 모든 분들에게, 당신을 아프게 하거나 계속해서 스트레스를 주는 것들이 나아지길 기도합니다. 어두운 생각, 과도한 생각, 의심이 당신의 마음에서 떠나고 명확함이 혼란을 대체하길 바랍니다. 평화와 안정이 당신의 삶을 채우길 바랍니다 ', 'Excellent quality of music n perfect playlist thank you ', '최고에요', 'В этом плейлисте всё идеально! Спасибо автору за проделанную работу! ', \"Perfectly AMAZING playlist I love it's  all .\", 'This is the Most PERFECT  Playlist.with all the Most perfect  Songs .I really love this Playlist.', '이번플리 느낌있게 듣기 좋구만유', '최고에요 감사해요', '정말 멋진 재생목록입니다. The Weeknd도 사랑합니다.', 'Glad to see this playlist again ', 'Weekend This Playlist ia PERFECT Awesome  AMAZING Loving  SONGS SONGS. I really Love its. ', \"Weekend Ireally love  this Playlists .It's  have all the Songs I really Loved. \", \"The Prefect  Amazing Song s And Perfect Album's..i Love its It's all. \", 'the playlist i never knew i needed.absolutely sensational . thank you', \"I can't help but admit that it's so good that I've listened to it over and over again countless times, every note and lyric touching my heart and mind. Thank you so much for sharing it. To all the beautiful souls reading this, remember that challenges are a part of life's journey. Embrace the lessons and keep moving forward towards a brighter tomorrow. \", 'I was wondering where this was good to see the playlist up again!', \"It's a pleasure to share this world with you!\", '위캔드는 정녕 천재야 !!!', 'This is one of My Favourite  Song.I got the Touch.Byy The weekend ', 'This pop playlist is great, enough time to keep me playing it in my office all day', ' your amazing', '07:59 a Lonely Night', 'Sublime mix ', '도플리의 플리는 뭔가가 다르다.\\n같은 위캔드 플리도 느낌이다름.\\n10만 얼른 넘기자~!!', '라우브노래만 무한반복해서 듣다가 이제 위켄드로 갈아탐 내영혼치유해주는 위켄드가 최고야', 'most favorite artist/singer Post Malone & The Weekend great job guys keep it up', 'excellent playlist', '재생목록에는 내가 좋아하는 노래가 많이 있어요', 'Nice Playlist ', 'i love this, thank you.', 'Out of Touch.Earned It', 'Que buena playlist, me encanta The weeknd', 'This is the best list', 'Midnight Pretenders Tomoko Aran - 25:20 Out of Time', '위켄드 플리는 무한 재업해도 닥치고 좋아요', 'nice bro', '', 'Love his music \\n this afternoon.', 'te quedo buena la playlits amigo coreano  uwu'])\n"
     ]
    }
   ],
   "source": [
    "print(a)"
   ]
  },
  {
   "cell_type": "code",
   "execution_count": null,
   "id": "a61071a5-4dd9-4ad8-a34a-7072b40eaa1f",
   "metadata": {},
   "outputs": [],
   "source": []
  }
 ],
 "metadata": {
  "kernelspec": {
   "display_name": "Python 3 (ipykernel)",
   "language": "python",
   "name": "python3"
  },
  "language_info": {
   "codemirror_mode": {
    "name": "ipython",
    "version": 3
   },
   "file_extension": ".py",
   "mimetype": "text/x-python",
   "name": "python",
   "nbconvert_exporter": "python",
   "pygments_lexer": "ipython3",
   "version": "3.12.3"
  }
 },
 "nbformat": 4,
 "nbformat_minor": 5
}
