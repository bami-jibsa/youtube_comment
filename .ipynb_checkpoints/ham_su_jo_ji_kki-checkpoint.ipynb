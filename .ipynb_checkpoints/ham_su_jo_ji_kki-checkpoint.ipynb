{
 "cells": [
  {
   "cell_type": "code",
   "execution_count": 3,
   "id": "058244b3-5cf3-4596-a8d9-ab250833010d",
   "metadata": {},
   "outputs": [],
   "source": [
    "from selenium import webdriver\n",
    "from selenium.webdriver.chrome.service import Service as ChromeService"
   ]
  },
  {
   "cell_type": "code",
   "execution_count": 4,
   "id": "5070cda0-ac71-4ce6-a777-27a07f294226",
   "metadata": {},
   "outputs": [],
   "source": [
    "options = webdriver.ChromeOptions()\n",
    "options.add_argument(\"headless\")"
   ]
  },
  {
   "cell_type": "code",
   "execution_count": 5,
   "id": "7dcc4b8a-e9f7-4c31-9689-c031a70b76ea",
   "metadata": {},
   "outputs": [
    {
     "name": "stderr",
     "output_type": "stream",
     "text": [
      "C:\\Users\\tlswj\\AppData\\Local\\Temp\\ipykernel_30212\\1279272397.py:1: DeprecationWarning: executable_path has been deprecated, please pass in a Service object\n",
      "  driver = webdriver.Chrome(\"./chromedriver\", options = options)\n"
     ]
    }
   ],
   "source": [
    "driver = webdriver.Chrome(\"./chromedriver\", options = options)"
   ]
  },
  {
   "cell_type": "code",
   "execution_count": 6,
   "id": "6d8c867b-e71d-45ac-a302-a82de0eafd37",
   "metadata": {},
   "outputs": [],
   "source": [
    " url = 'https://www.youtube.com/watch?v=u86k7N8EEc8'"
   ]
  },
  {
   "cell_type": "code",
   "execution_count": 7,
   "id": "0237d0a7-807e-45f4-b5d0-a75f62930eb5",
   "metadata": {},
   "outputs": [],
   "source": [
    "def grab(url):\n",
    "    driver.get(url)\n",
    "    driver.implicitly_wait(5)\n",
    "    comments = driver.find_elements_by_css_selector(\".style-scope ytd-comment-renderer\")\n",
    "    from selenium.webdriver.common.keys import Keys\n",
    "    driver.find_element_by_tag_name('body').send_keys(Keys.PAGE_DOWN)\n",
    "    l_com = len(comments)\n",
    "    if l_com > 10:\n",
    "        for _ in range(l_com):\n",
    "            driver.find_element_by_tag_name('body').send_keys(Keys.PAGE_DOWN)\n",
    "    else:\n",
    "        for _ in range(10):\n",
    "            driver.find_element_by_tag_name('body').send_keys(Keys.PAGE_DOWN)\n",
    "    id = []\n",
    "    mass = []\n",
    "    b = 0\n",
    "    for i in range(10):\n",
    "        c = []\n",
    "        c += list(map(str, ''.join(comments).split('\\\\n')))\n",
    "        id += c[0]\n",
    "        join_mass = '\\n'.join(c[2:-2]) #'@bulggotnamja\\n3주 전\\n1편 만큼은 바라지도 않으니 딱 2편 만큼만..\\n그보다 19세 관람으로 바꼈으면..\\n7\\n답글'\n",
    "        mass += join_mass\n",
    "    return id , mass"
   ]
  },
  {
   "cell_type": "code",
   "execution_count": 8,
   "id": "b06a32a9-1b74-4f7a-92ee-e04f2d329c37",
   "metadata": {},
   "outputs": [
    {
     "name": "stderr",
     "output_type": "stream",
     "text": [
      "C:\\Users\\tlswj\\AppData\\Local\\Temp\\ipykernel_30212\\1260391192.py:4: DeprecationWarning: find_elements_by_* commands are deprecated. Please use find_elements() instead\n",
      "  comments = driver.find_elements_by_css_selector(\".style-scope ytd-comment-renderer\")\n",
      "C:\\Users\\tlswj\\AppData\\Local\\Temp\\ipykernel_30212\\1260391192.py:6: DeprecationWarning: find_element_by_* commands are deprecated. Please use find_element() instead\n",
      "  driver.find_element_by_tag_name('body').send_keys(Keys.PAGE_DOWN)\n",
      "C:\\Users\\tlswj\\AppData\\Local\\Temp\\ipykernel_30212\\1260391192.py:13: DeprecationWarning: find_element_by_* commands are deprecated. Please use find_element() instead\n",
      "  driver.find_element_by_tag_name('body').send_keys(Keys.PAGE_DOWN)\n"
     ]
    }
   ],
   "source": [
    "a = grab(url)"
   ]
  },
  {
   "cell_type": "code",
   "execution_count": 9,
   "id": "3ffa7d2d-559e-4c49-aa84-4ec300aee27a",
   "metadata": {},
   "outputs": [
    {
     "name": "stdout",
     "output_type": "stream",
     "text": [
      "([], [])\n"
     ]
    }
   ],
   "source": [
    "print(a)"
   ]
  },
  {
   "cell_type": "code",
   "execution_count": null,
   "id": "d9c83684-0576-4b5f-9a58-c0819fe94dc5",
   "metadata": {},
   "outputs": [],
   "source": []
  },
  {
   "cell_type": "code",
   "execution_count": null,
   "id": "2928ee10-42da-403f-83d5-2945fcb805f7",
   "metadata": {},
   "outputs": [],
   "source": []
  }
 ],
 "metadata": {
  "kernelspec": {
   "display_name": "Python 3 (ipykernel)",
   "language": "python",
   "name": "python3"
  },
  "language_info": {
   "codemirror_mode": {
    "name": "ipython",
    "version": 3
   },
   "file_extension": ".py",
   "mimetype": "text/x-python",
   "name": "python",
   "nbconvert_exporter": "python",
   "pygments_lexer": "ipython3",
   "version": "3.12.2"
  }
 },
 "nbformat": 4,
 "nbformat_minor": 5
}
