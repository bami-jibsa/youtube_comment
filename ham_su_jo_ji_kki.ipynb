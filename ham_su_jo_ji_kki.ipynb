{
 "cells": [
  {
   "cell_type": "code",
   "execution_count": 1,
   "id": "058244b3-5cf3-4596-a8d9-ab250833010d",
   "metadata": {},
   "outputs": [],
   "source": [
    "from selenium import webdriver\n",
    "from selenium.webdriver.chrome.service import Service as ChromeService"
   ]
  },
  {
   "cell_type": "code",
   "execution_count": 2,
   "id": "5070cda0-ac71-4ce6-a777-27a07f294226",
   "metadata": {},
   "outputs": [],
   "source": [
    "options = webdriver.ChromeOptions()\n",
    "options.add_argument(\"headless\")"
   ]
  },
  {
   "cell_type": "code",
   "execution_count": 3,
   "id": "37105fa2-d163-4851-9803-5f40e646e83a",
   "metadata": {},
   "outputs": [],
   "source": [
    "#!pip freeze\n"
   ]
  },
  {
   "cell_type": "code",
   "execution_count": 4,
   "id": "fce2b18f-a8b5-4d5c-9563-4bb9cb871465",
   "metadata": {},
   "outputs": [
    {
     "name": "stdout",
     "output_type": "stream",
     "text": [
      "Requirement already satisfied: selenium==3.8 in c:\\users\\tunru\\appdata\\local\\programs\\python\\python312\\lib\\site-packages (3.8.0)\n"
     ]
    }
   ],
   "source": [
    "!pip install selenium==3.8"
   ]
  },
  {
   "cell_type": "code",
   "execution_count": 5,
   "id": "7dcc4b8a-e9f7-4c31-9689-c031a70b76ea",
   "metadata": {},
   "outputs": [],
   "source": [
    "driver = webdriver.Chrome(\"./chromedriver\", options = options)"
   ]
  },
  {
   "cell_type": "code",
   "execution_count": 6,
   "id": "6d8c867b-e71d-45ac-a302-a82de0eafd37",
   "metadata": {},
   "outputs": [],
   "source": [
    " url = 'https://www.youtube.com/watch?v=u86k7N8EEc8'"
   ]
  },
  {
   "cell_type": "code",
   "execution_count": 9,
   "id": "0237d0a7-807e-45f4-b5d0-a75f62930eb5",
   "metadata": {},
   "outputs": [],
   "source": [
    "def grab(url):\n",
    "    driver.get(url)\n",
    "    driver.implicitly_wait(5)\n",
    "    comments = driver.find_elements_by_css_selector(\".style-scope ytd-comment-renderer\")\n",
    "    from selenium.webdriver.common.keys import Keys\n",
    "    driver.find_element_by_tag_name('body').send_keys(Keys.PAGE_DOWN)\n",
    "    l_com = len(comments)\n",
    "    if l_com > 10:\n",
    "        for _ in range(l_com):\n",
    "            driver.find_element_by_tag_name('body').send_keys(Keys.PAGE_DOWN)\n",
    "    else:\n",
    "        for _ in range(10):\n",
    "            driver.find_element_by_tag_name('body').send_keys(Keys.PAGE_DOWN)\n",
    "    id = []\n",
    "    mass = []\n",
    "    b = 0\n",
    "    for i in range(10):\n",
    "        c = []\n",
    "        c += list(map(str, ''.join(comments).split('\\\\n')))\n",
    "        id += c[0]\n",
    "        join_mass = '\\n'.join(c[2:-2]) #'@bulggotnamja\\n3주 전\\n1편 만큼은 바라지도 않으니 딱 2편 만큼만..\\n그보다 19세 관람으로 바꼈으면..\\n7\\n답글'\n",
    "        mass += join_mass\n",
    "    return id , mass"
   ]
  },
  {
   "cell_type": "code",
   "execution_count": 10,
   "id": "b06a32a9-1b74-4f7a-92ee-e04f2d329c37",
   "metadata": {},
   "outputs": [
    {
     "ename": "NameError",
     "evalue": "name 'time' is not defined",
     "output_type": "error",
     "traceback": [
      "\u001b[1;31m-------------------------------------------------------------\u001b[0m",
      "\u001b[1;31mNameError\u001b[0m                   Traceback (most recent call last)",
      "Cell \u001b[1;32mIn[10], line 1\u001b[0m\n\u001b[1;32m----> 1\u001b[0m a \u001b[38;5;241m=\u001b[39m \u001b[43mgrab\u001b[49m\u001b[43m(\u001b[49m\u001b[43murl\u001b[49m\u001b[43m)\u001b[49m\n",
      "Cell \u001b[1;32mIn[9], line 3\u001b[0m, in \u001b[0;36mgrab\u001b[1;34m(url)\u001b[0m\n\u001b[0;32m      1\u001b[0m \u001b[38;5;28;01mdef\u001b[39;00m \u001b[38;5;21mgrab\u001b[39m(url):\n\u001b[0;32m      2\u001b[0m     driver\u001b[38;5;241m.\u001b[39mget(url)\n\u001b[1;32m----> 3\u001b[0m     \u001b[43mtime\u001b[49m\u001b[38;5;241m.\u001b[39msleep(\u001b[38;5;241m5\u001b[39m)  \u001b[38;5;66;03m# 5초 동안 대기\u001b[39;00m\n\u001b[0;32m      5\u001b[0m     \u001b[38;5;66;03m# 댓글을 로드하기 위해 스크롤\u001b[39;00m\n\u001b[0;32m      6\u001b[0m     \u001b[38;5;28;01mfor\u001b[39;00m _ \u001b[38;5;129;01min\u001b[39;00m \u001b[38;5;28mrange\u001b[39m(\u001b[38;5;241m10\u001b[39m):\n",
      "\u001b[1;31mNameError\u001b[0m: name 'time' is not defined"
     ]
    }
   ],
   "source": [
    "a = grab(url)"
   ]
  },
  {
   "cell_type": "code",
   "execution_count": null,
   "id": "3ffa7d2d-559e-4c49-aa84-4ec300aee27a",
   "metadata": {},
   "outputs": [],
   "source": [
    "print(a)"
   ]
  },
  {
   "cell_type": "code",
   "execution_count": null,
   "id": "2928ee10-42da-403f-83d5-2945fcb805f7",
   "metadata": {},
   "outputs": [],
   "source": []
  }
 ],
 "metadata": {
  "kernelspec": {
   "display_name": "Python 3 (ipykernel)",
   "language": "python",
   "name": "python3"
  },
  "language_info": {
   "codemirror_mode": {
    "name": "ipython",
    "version": 3
   },
   "file_extension": ".py",
   "mimetype": "text/x-python",
   "name": "python",
   "nbconvert_exporter": "python",
   "pygments_lexer": "ipython3",
   "version": "3.12.3"
  }
 },
 "nbformat": 4,
 "nbformat_minor": 5
}
