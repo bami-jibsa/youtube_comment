{
 "cells": [
  {
   "cell_type": "code",
   "execution_count": 29,
   "id": "e8b12a15-043f-4f0c-8f1d-a34d64fad767",
   "metadata": {},
   "outputs": [],
   "source": [
    "from selenium import webdriver\n",
    "from selenium.webdriver.chrome.service import Service as ChromeService\n",
    "from selenium.webdriver.common.by import By\n",
    "from selenium.webdriver.common.keys import Keys\n",
    "import time\n",
    "import random\n"
   ]
  },
  {
   "cell_type": "code",
   "execution_count": 30,
   "id": "cbf2565a-bd82-4ec8-aec0-d6b92fc17d7c",
   "metadata": {},
   "outputs": [],
   "source": [
    "options = webdriver.ChromeOptions()\n",
    "options.add_argument(\"headless\")"
   ]
  },
  {
   "cell_type": "code",
   "execution_count": 31,
   "id": "e1c7109d-7a29-4569-935c-2989d17e8147",
   "metadata": {},
   "outputs": [],
   "source": [
    "driver = webdriver.Chrome(executable_path=\"./chromedriver\", options=options)\n"
   ]
  },
  {
   "cell_type": "code",
   "execution_count": 32,
   "id": "2d7a5cc6-7ada-41e4-865a-cf6c1a4db568",
   "metadata": {},
   "outputs": [],
   "source": [
    "url = 'https://www.youtube.com/watch?v=IYagFyfY3EU&ab_channel=PAKA'"
   ]
  },
  {
   "cell_type": "code",
   "execution_count": 35,
   "id": "abc56879-6ef7-4d5e-9bf7-494cfca06bb4",
   "metadata": {},
   "outputs": [],
   "source": [
    "def grab(url):\n",
    "    driver.get(url)\n",
    "    time.sleep(5) \n",
    "\n",
    "    for _ in range(10):\n",
    "        driver.find_element(By.TAG_NAME, 'body').send_keys(Keys.PAGE_DOWN)\n",
    "        time.sleep(1) \n",
    "\n",
    "    comments = driver.find_elements(By.CSS_SELECTOR, \"#content-text\")\n",
    "    authors = driver.find_elements(By.CSS_SELECTOR, \"#author-text\")\n",
    "    \n",
    "    texts = [comment.text for comment in comments]\n",
    "    name = [author.text.strip() for author in authors]\n",
    "\n",
    "    driver.quit()\n",
    "\n",
    "    rand = random.randint(0, len(texts))\n",
    "    end_name = name[rand]\n",
    "    end_texts = texts[rand]\n",
    "    print(f'아이디 {len(name)}, 내용 {len(texts)}')\n",
    "    print(f'랜덤번호:{rand}')\n",
    "    print(f'당첨자 이름: {name[rand]}')\n",
    "    print(f'당첨 내용: {texts[rand]}')\n",
    "    return end_name, end_texts"
   ]
  },
  {
   "cell_type": "code",
   "execution_count": 34,
   "id": "17635dc4-b035-4491-a678-5ffd9800c889",
   "metadata": {},
   "outputs": [
    {
     "name": "stdout",
     "output_type": "stream",
     "text": [
      "아이디 40, 내용 40\n",
      "랜덤번호:22\n",
      "당첨자 이름: @user-nh5kk3cm6y\n",
      "당첨 내용: 10:10  도랄팤의 샤라웃을 받은 장인 ㄷㄷ\n"
     ]
    }
   ],
   "source": [
    "grab(url)"
   ]
  },
  {
   "cell_type": "code",
   "execution_count": null,
   "id": "50f1f6b0-26c2-447f-baa4-6a47f17fecb1",
   "metadata": {},
   "outputs": [],
   "source": []
  }
 ],
 "metadata": {
  "kernelspec": {
   "display_name": "Python 3 (ipykernel)",
   "language": "python",
   "name": "python3"
  },
  "language_info": {
   "codemirror_mode": {
    "name": "ipython",
    "version": 3
   },
   "file_extension": ".py",
   "mimetype": "text/x-python",
   "name": "python",
   "nbconvert_exporter": "python",
   "pygments_lexer": "ipython3",
   "version": "3.12.3"
  }
 },
 "nbformat": 4,
 "nbformat_minor": 5
}
