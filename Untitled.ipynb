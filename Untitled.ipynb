{
 "cells": [
  {
   "cell_type": "code",
   "execution_count": 25,
   "id": "e8b12a15-043f-4f0c-8f1d-a34d64fad767",
   "metadata": {},
   "outputs": [],
   "source": [
    "from selenium import webdriver\n",
    "from selenium.webdriver.chrome.service import Service as ChromeService\n",
    "from selenium.webdriver.common.by import By\n",
    "from selenium.webdriver.common.keys import Keys\n",
    "import time\n"
   ]
  },
  {
   "cell_type": "code",
   "execution_count": 26,
   "id": "cbf2565a-bd82-4ec8-aec0-d6b92fc17d7c",
   "metadata": {},
   "outputs": [],
   "source": [
    "options = webdriver.ChromeOptions()\n",
    "options.add_argument(\"headless\")"
   ]
  },
  {
   "cell_type": "code",
   "execution_count": 27,
   "id": "e1c7109d-7a29-4569-935c-2989d17e8147",
   "metadata": {},
   "outputs": [],
   "source": [
    "driver = webdriver.Chrome(executable_path=\"./chromedriver\", options=options)\n"
   ]
  },
  {
   "cell_type": "code",
   "execution_count": 28,
   "id": "2d7a5cc6-7ada-41e4-865a-cf6c1a4db568",
   "metadata": {},
   "outputs": [],
   "source": [
    "url = 'https://www.youtube.com/watch?v=IYagFyfY3EU&ab_channel=PAKA'"
   ]
  },
  {
   "cell_type": "code",
   "execution_count": 29,
   "id": "abc56879-6ef7-4d5e-9bf7-494cfca06bb4",
   "metadata": {},
   "outputs": [],
   "source": [
    "def grab(url):\n",
    "    driver.get(url)\n",
    "    time.sleep(5) \n",
    "\n",
    "    for _ in range(10):\n",
    "        driver.find_element(By.TAG_NAME, 'body').send_keys(Keys.PAGE_DOWN)\n",
    "        time.sleep(1) \n",
    "\n",
    "    comments = driver.find_elements(By.CSS_SELECTOR, \"#content-text\")\n",
    "    authors = driver.find_elements(By.CSS_SELECTOR, \"#author-text\")\n",
    "    \n",
    "    comment_texts = [comment.text for comment in comments]\n",
    "    author_names = [author.text.strip() for author in authors]\n",
    "\n",
    "    driver.quit()\n",
    "\n",
    "    return author_names, comment_texts"
   ]
  },
  {
   "cell_type": "code",
   "execution_count": 30,
   "id": "17635dc4-b035-4491-a678-5ffd9800c889",
   "metadata": {},
   "outputs": [],
   "source": [
    "a, b = grab(url)"
   ]
  },
  {
   "cell_type": "code",
   "execution_count": 31,
   "id": "b130d67b-8c20-4cdd-97ca-9c94a01d97ee",
   "metadata": {},
   "outputs": [
    {
     "name": "stdout",
     "output_type": "stream",
     "text": [
      "['@user-tl5hw7yo3v', '@user-ci3bw6tt6b', '@user-yu4oe1xw4l', '@user-gq7co7nh9d', '@user-ro2xh3hm4p', '@Coldbrew._.0', '@pakawoo99', '@ToH940', '@2yongmiddle', '@min_0804', '@jirafa5090', '@ilov_u_butihate_u', '@ddiyongkim6118', '@user-ss7ei9xv9b', '@user-xn2zj7to4e', '@leeDDosok', '@user-mv4lb6yi2e', '@_hermes_', '@jjms327', '@orival2279', '@Sw2018ggs', '@tyksic', '@VespertheMartini', '@user-rp4xf2lt8j', '@user-qs4ob5nj6g', '@user-dl2ob5tw4l', '@Retis1', '@user-fn4xf5fh5s', '@user-ii9wp6px6k', '@ttttttosss', '@user-fm6jc5mh4u', '@Stimmy._.', '@Majang-', '@u_00a7', '@sr__kawaii', '@Apieu0', '@user-st6qh4uw6m', '@user-ss3qi8gd6m', '@user-fo8nb5bo6h', '@user-nr9xi8ve6t'] ['시작부터 도선생님 통신보안 재롱보니 광대가 안내려가네요', '댓글 세번 누르면 뭐 됨?', '도파 군대 가더니 텐션이 달라졌네 ㅋㅋㅋㅋㅋㅋㅋㅋㅋ 천직이네 ㅋㅋ 말뚝박죠??', '7:45 이거 ㄹㅇ.. 일상의 소중함 가족의 소중함', '진짜 이조합은 만담이 제일 재밌다 ,,, 옛날 영상 찾아보러간다', '5:21 팤아가 생일 축하해', '아 초반 10분 간만에 잡담 느낌 너무 좋네 ㅋㅋㅋ 같은 군인으로서 공감도 되고', '하도 별짓다해서 파카 배그 올라올때마다 내 얼굴이 화끈해지는거 같아ㅋㅋㅋㅋ 간만에 도쌤 목소리 좋네요', '도썀 팔협지 싸라웃 미쳣다', '초반 노가리 토크 너무 재밌다 도파 인간미 생긴거 친근해서 좋고', '와 토크영상 개좋다', '10:12 팔협지 그는 신이야', '도센세 목소리도 듣고 참 좋네요', '진짜 대충 편집한 게임 영상들만 보다가 잡담 영상 보니까 너무 좋다\\n이대로만 해.', '이시간에 올라오다니', '8:39 도파 말 진짜 잘한다.. 나도 눈물날뻔', 'ㅋㅋㅋㅋㅋㅋㅋㅋㅋㅋ진짜 이것도 카카오팟 맛나네 미치겠네 ㅋㅋㅋ', '퇴근 후 맥주와 함께하는 안주로 파카 영상 맛있게 먹겠습니다', '아 진짜 이 토크 너무 따스하다', '도쌤 목소리 오랜만에 들으니까 진짜 정감간다...', '도파 오랜만에 오니까 진짜 반갑다', '아 진짜 너무 뭉클하다 … ㅠㅠ', '도쌤 목소리 들으니까 지지난주에 입대한 제 친구들이 생각나네요...\\n도쌤도 그렇고 제 친구들도 그렇고 다치지 않고 전역했으면 더할 나위가 없네요', '게임 안 하고 잡담만 하는데 너무 좋네 ㅋㅋㅋㅋㅋ', '개재밌다 오늘 영상', '장인 공군 만기 전역 축하드립니다!!', '인트로만 봤는데도 벌써 맛있다 ㅋㅋㅋ 너무 달아~', '6:03 도랄팤 목소리 다 같이 들리는 거에서 위아래로 울부짖었다', '미쳣다 대화만 나눠도 재밋네 ㅠㅠ', '도랄팤 대기실에서 얘기만해도 재밌다', '초반 잡담 왤케 재밌지ㅋㅋㅋㅋㅋㅋ', '청학동 드립 ㅋㅋㅋㅋㅋㅋㅋㅋ 진짜 미쳤냐 ㅋㅋㅋㅋㅋㅋㅋㅋㅋㅋㅋㅋㅋ', 'ㅋㅋㅋㅋㅋㅋㅋㅋㅋ 도파 텐션 높게 말 우다다 쏟아내는 게 귀엽네', '완벽한 타이밍 어쩌구', '이시간에 40분영상... 아침밥고마워', '이런 만담도 자주 올려줘잉', '25:10 비상호출 개웃기네 ㅋㅋㅋㅋ 교차 편집 맛있다', '토요일도 일하니까 퇴근하고 볼게요 감사합니다', '와 도선생님 ㅠㅠㅠ']\n"
     ]
    }
   ],
   "source": [
    "print(a, b)"
   ]
  },
  {
   "cell_type": "code",
   "execution_count": 33,
   "id": "a61071a5-4dd9-4ad8-a34a-7072b40eaa1f",
   "metadata": {},
   "outputs": [],
   "source": [
    "import random\n"
   ]
  },
  {
   "cell_type": "code",
   "execution_count": 43,
   "id": "a836674f-df4d-42c5-a965-97ca3b56028a",
   "metadata": {},
   "outputs": [
    {
     "name": "stdout",
     "output_type": "stream",
     "text": [
      "40 39\n"
     ]
    }
   ],
   "source": [
    "print(len(a), len(b))"
   ]
  },
  {
   "cell_type": "code",
   "execution_count": 45,
   "id": "50f1f6b0-26c2-447f-baa4-6a47f17fecb1",
   "metadata": {},
   "outputs": [
    {
     "name": "stdout",
     "output_type": "stream",
     "text": [
      "17\n"
     ]
    }
   ],
   "source": [
    "rand = random.randint(0, len(b))\n",
    "print(rand)"
   ]
  },
  {
   "cell_type": "code",
   "execution_count": 46,
   "id": "25a7778b-928a-4ef2-ae1c-2af742b225d1",
   "metadata": {},
   "outputs": [],
   "source": [
    "name = a[rand]\n",
    "mass = b[rand]"
   ]
  },
  {
   "cell_type": "code",
   "execution_count": 47,
   "id": "f97c8b10-dc48-48c5-b23e-91212ef46522",
   "metadata": {},
   "outputs": [
    {
     "name": "stdout",
     "output_type": "stream",
     "text": [
      "당첨자 이름: @_hermes_\n",
      "당첨 내용: 퇴근 후 맥주와 함께하는 안주로 파카 영상 맛있게 먹겠습니다\n"
     ]
    }
   ],
   "source": [
    "print(f'당첨자 이름: {name}')\n",
    "print(f'당첨 내용: {mass}')"
   ]
  },
  {
   "cell_type": "code",
   "execution_count": null,
   "id": "4bf139cc-0f17-4102-9315-590ab891c009",
   "metadata": {},
   "outputs": [],
   "source": []
  }
 ],
 "metadata": {
  "kernelspec": {
   "display_name": "Python 3 (ipykernel)",
   "language": "python",
   "name": "python3"
  },
  "language_info": {
   "codemirror_mode": {
    "name": "ipython",
    "version": 3
   },
   "file_extension": ".py",
   "mimetype": "text/x-python",
   "name": "python",
   "nbconvert_exporter": "python",
   "pygments_lexer": "ipython3",
   "version": "3.12.3"
  }
 },
 "nbformat": 4,
 "nbformat_minor": 5
}
