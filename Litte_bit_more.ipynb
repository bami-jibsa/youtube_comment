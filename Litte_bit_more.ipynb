{
 "cells": [
  {
   "cell_type": "code",
   "execution_count": 1,
   "id": "e8b12a15-043f-4f0c-8f1d-a34d64fad767",
   "metadata": {},
   "outputs": [],
   "source": [
    "from selenium import webdriver\n",
    "from selenium.webdriver.chrome.service import Service as ChromeService\n",
    "from selenium.webdriver.common.by import By\n",
    "from selenium.webdriver.common.keys import Keys\n",
    "import time\n"
   ]
  },
  {
   "cell_type": "code",
   "execution_count": 2,
   "id": "cbf2565a-bd82-4ec8-aec0-d6b92fc17d7c",
   "metadata": {},
   "outputs": [],
   "source": [
    "options = webdriver.ChromeOptions()\n",
    "options.add_argument(\"headless\")"
   ]
  },
  {
   "cell_type": "code",
   "execution_count": 3,
   "id": "e1c7109d-7a29-4569-935c-2989d17e8147",
   "metadata": {},
   "outputs": [],
   "source": [
    "driver = webdriver.Chrome(executable_path=\"./chromedriver\", options=options)\n"
   ]
  },
  {
   "cell_type": "code",
   "execution_count": 4,
   "id": "2d7a5cc6-7ada-41e4-865a-cf6c1a4db568",
   "metadata": {},
   "outputs": [],
   "source": [
    "url = 'https://www.youtube.com/watch?v=IYagFyfY3EU&ab_channel=PAKA'"
   ]
  },
  {
   "cell_type": "code",
   "execution_count": 5,
   "id": "abc56879-6ef7-4d5e-9bf7-494cfca06bb4",
   "metadata": {},
   "outputs": [],
   "source": [
    "def grab(url):\n",
    "    driver.get(url)\n",
    "    time.sleep(5) \n",
    "\n",
    "    for _ in range(10):\n",
    "        driver.find_element(By.TAG_NAME, 'body').send_keys(Keys.PAGE_DOWN)\n",
    "        time.sleep(1) \n",
    "\n",
    "    comments = driver.find_elements(By.CSS_SELECTOR, \"#content-text\")\n",
    "    authors = driver.find_elements(By.CSS_SELECTOR, \"#author-text\")\n",
    "    \n",
    "    comment_texts = [comment.text for comment in comments]\n",
    "    author_names = [author.text.strip() for author in authors]\n",
    "\n",
    "    driver.quit()\n",
    "\n",
    "    return author_names, comment_texts"
   ]
  },
  {
   "cell_type": "code",
   "execution_count": 6,
   "id": "17635dc4-b035-4491-a678-5ffd9800c889",
   "metadata": {},
   "outputs": [],
   "source": [
    "a, b = grab(url)"
   ]
  },
  {
   "cell_type": "code",
   "execution_count": 7,
   "id": "b130d67b-8c20-4cdd-97ca-9c94a01d97ee",
   "metadata": {},
   "outputs": [
    {
     "name": "stdout",
     "output_type": "stream",
     "text": [
      "['@user-ci3bw6tt6b', '@user-tl5hw7yo3v', '@user-yu4oe1xw4l', '@user-gq7co7nh9d', '@user-ro2xh3hm4p', '@pakawoo99', '@Coldbrew._.0', '@ToH940', '@2yongmiddle', '@min_0804', '@ddiyongkim6118', '@ilov_u_butihate_u', '@jirafa5090', '@leeDDosok', '@user-fn4xf5fh5s', '@user-st6qh4uw6m', '@user-ot5lc8ut3m', '@user-mv4lb6yi2e', '@user-ss7ei9xv9b', '@user-xn2zj7to4e', '@Stimmy._.', '@user-nh5kk3cm6y', '@VespertheMartini', '@user-fo2qo3yg3c', '@Surprise_S.E', '@Heonkoo', '@_hermes_', '@user-xp1jy8uo6t', '@user-vu1hm1wz1q', '@user-rp4xf2lt8j', '@Majang-', '@syr5342', '@koreanbenz4314', '@Sw2018ggs', '@orival2279', '@user-qs4ob5nj6g', '@Retis1'] ['댓글 세번 누르면 뭐 됨?', '시작부터 도선생님 통신보안 재롱보니 광대가 안내려가네요', '도파 군대 가더니 텐션이 달라졌네 ㅋㅋㅋㅋㅋㅋㅋㅋㅋ 천직이네 ㅋㅋ 말뚝박죠??', '7:45 이거 ㄹㅇ.. 일상의 소중함 가족의 소중함', '진짜 이조합은 만담이 제일 재밌다 ,,, 옛날 영상 찾아보러간다', '아 초반 10분 간만에 잡담 느낌 너무 좋네 ㅋㅋㅋ 같은 군인으로서 공감도 되고', '5:21 팤아가 생일 축하해', '하도 별짓다해서 파카 배그 올라올때마다 내 얼굴이 화끈해지는거 같아ㅋㅋㅋㅋ 간만에 도쌤 목소리 좋네요', '도썀 팔협지 싸라웃 미쳣다', '초반 노가리 토크 너무 재밌다 도파 인간미 생긴거 친근해서 좋고', '도센세 목소리도 듣고 참 좋네요', '10:12 팔협지 그는 신이야', '와 토크영상 개좋다', '8:39 도파 말 진짜 잘한다.. 나도 눈물날뻔', '6:03 도랄팤 목소리 다 같이 들리는 거에서 위아래로 울부짖었다', '25:10 비상호출 개웃기네 ㅋㅋㅋㅋ 교차 편집 맛있다', '8:35 파카 눈물날 거 같다는 게 주변에 ㄹㅇ 죄다 공익인데 드디어 현역 동료가 생겼음... ㅋㅋㅋㅋㅋㅋㅋㅋ', 'ㅋㅋㅋㅋㅋㅋㅋㅋㅋㅋ진짜 이것도 카카오팟 맛나네 미치겠네 ㅋㅋㅋ', '진짜 대충 편집한 게임 영상들만 보다가 잡담 영상 보니까 너무 좋다\\n이대로만 해.', '이시간에 올라오다니', '청학동 드립 ㅋㅋㅋㅋㅋㅋㅋㅋ 진짜 미쳤냐 ㅋㅋㅋㅋㅋㅋㅋㅋㅋㅋㅋㅋㅋ', '10:10  도랄팤의 샤라웃을 받은 장인 ㄷㄷ', '도쌤 목소리 들으니까 지지난주에 입대한 제 친구들이 생각나네요...\\n도쌤도 그렇고 제 친구들도 그렇고 다치지 않고 전역했으면 더할 나위가 없네요', '35:26 7탄으로 갈아타려다가 괴물쥐가 7탄 먹으니깐 5탄총 그냥 쓰는거봐.. ㅠ 배려팤', '8:44 ㄹㅇ임. 닌텐도 3DS 사준다는 말에 속아서 6박7일 청학동 갔는데 밥으로 연꽃잎에 싸진 눅진눅진한 밥 나오자 마자 내 일상의 소중함을 깨닫고 집 가는길 휴게소에서 라면 먹다가 눈물 질질짰음 초등학교 3학년때', '배그 대기화면에 셋이서 대화만 하는 영상인데 세상 재밌네ㅋㅋㅋㅋㅋㅋㅋㅋ', '퇴근 후 맥주와 함께하는 안주로 파카 영상 맛있게 먹겠습니다', '10:10 메오티 패스 뭐죠? 수많은 샤라웃들 다 편집됐네...', '나한텐 이게 대학축제야', '게임 안 하고 잡담만 하는데 너무 좋네 ㅋㅋㅋㅋㅋ', 'ㅋㅋㅋㅋㅋㅋㅋㅋㅋ 도파 텐션 높게 말 우다다 쏟아내는 게 귀엽네', '7:57 나 살짝 눈물날거같애 / 청학동 캠프 / 병무청에서 돈 받았나요\\n22:40 글쎄']\n"
     ]
    }
   ],
   "source": [
    "print(a, b)"
   ]
  },
  {
   "cell_type": "code",
   "execution_count": 8,
   "id": "a61071a5-4dd9-4ad8-a34a-7072b40eaa1f",
   "metadata": {},
   "outputs": [],
   "source": [
    "import random\n"
   ]
  },
  {
   "cell_type": "code",
   "execution_count": 9,
   "id": "a836674f-df4d-42c5-a965-97ca3b56028a",
   "metadata": {},
   "outputs": [
    {
     "name": "stdout",
     "output_type": "stream",
     "text": [
      "37 32\n"
     ]
    }
   ],
   "source": [
    "print(len(a), len(b))"
   ]
  },
  {
   "cell_type": "code",
   "execution_count": 10,
   "id": "50f1f6b0-26c2-447f-baa4-6a47f17fecb1",
   "metadata": {},
   "outputs": [
    {
     "name": "stdout",
     "output_type": "stream",
     "text": [
      "0\n"
     ]
    }
   ],
   "source": [
    "rand = random.randint(0, len(b))\n",
    "print(rand)"
   ]
  },
  {
   "cell_type": "code",
   "execution_count": 11,
   "id": "25a7778b-928a-4ef2-ae1c-2af742b225d1",
   "metadata": {},
   "outputs": [],
   "source": [
    "name = a[rand]\n",
    "mass = b[rand]"
   ]
  },
  {
   "cell_type": "code",
   "execution_count": 12,
   "id": "f97c8b10-dc48-48c5-b23e-91212ef46522",
   "metadata": {},
   "outputs": [
    {
     "name": "stdout",
     "output_type": "stream",
     "text": [
      "당첨자 이름: @user-ci3bw6tt6b\n",
      "당첨 내용: 댓글 세번 누르면 뭐 됨?\n"
     ]
    }
   ],
   "source": [
    "print(f'당첨자 이름: {name}')\n",
    "print(f'당첨 내용: {mass}')"
   ]
  },
  {
   "cell_type": "code",
   "execution_count": null,
   "id": "4bf139cc-0f17-4102-9315-590ab891c009",
   "metadata": {},
   "outputs": [],
   "source": []
  }
 ],
 "metadata": {
  "kernelspec": {
   "display_name": "Python 3 (ipykernel)",
   "language": "python",
   "name": "python3"
  },
  "language_info": {
   "codemirror_mode": {
    "name": "ipython",
    "version": 3
   },
   "file_extension": ".py",
   "mimetype": "text/x-python",
   "name": "python",
   "nbconvert_exporter": "python",
   "pygments_lexer": "ipython3",
   "version": "3.12.3"
  }
 },
 "nbformat": 4,
 "nbformat_minor": 5
}
